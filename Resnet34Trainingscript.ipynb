{
 "cells": [
  {
   "cell_type": "markdown",
   "metadata": {
    "toc": true
   },
   "source": [
    "<h1>Table of Contents<span class=\"tocSkip\"></span></h1>\n",
    "<div class=\"toc\"><ul class=\"toc-item\"><li><span><a href=\"#TransferLearning-on-Resnet-(34)\" data-toc-modified-id=\"TransferLearning-on-Resnet-(34)-1\"><span class=\"toc-item-num\">1&nbsp;&nbsp;</span>TransferLearning on Resnet (34)</a></span></li><li><span><a href=\"#Load-Data\" data-toc-modified-id=\"Load-Data-2\"><span class=\"toc-item-num\">2&nbsp;&nbsp;</span>Load Data</a></span></li><li><span><a href=\"#Training-the-model\" data-toc-modified-id=\"Training-the-model-3\"><span class=\"toc-item-num\">3&nbsp;&nbsp;</span>Training the model</a></span><ul class=\"toc-item\"><li><span><a href=\"#Visualizing-the-model-predictions\" data-toc-modified-id=\"Visualizing-the-model-predictions-3.1\"><span class=\"toc-item-num\">3.1&nbsp;&nbsp;</span>Visualizing the model predictions</a></span></li></ul></li><li><span><a href=\"#Finetuning-the-convnet\" data-toc-modified-id=\"Finetuning-the-convnet-4\"><span class=\"toc-item-num\">4&nbsp;&nbsp;</span>Finetuning the convnet</a></span></li><li><span><a href=\"#Train-and-Evaluate\" data-toc-modified-id=\"Train-and-Evaluate-5\"><span class=\"toc-item-num\">5&nbsp;&nbsp;</span>Train and Evaluate</a></span></li><li><span><a href=\"#Save-the-state-dictionary\" data-toc-modified-id=\"Save-the-state-dictionary-6\"><span class=\"toc-item-num\">6&nbsp;&nbsp;</span>Save the state dictionary</a></span></li><li><span><a href=\"#Confusion-Matrix\" data-toc-modified-id=\"Confusion-Matrix-7\"><span class=\"toc-item-num\">7&nbsp;&nbsp;</span>Confusion Matrix</a></span></li></ul></div>"
   ]
  },
  {
   "cell_type": "markdown",
   "metadata": {},
   "source": [
    "# TransferLearning on Resnet (34)\n",
    "this code has been modified from the official pytorch documentation and requires PyTorch compiled with CUDA support.\n",
    "http://pytorch.org/tutorials/beginner/transfer_learning_tutorial.html\n"
   ]
  },
  {
   "cell_type": "code",
   "execution_count": 2,
   "metadata": {
    "collapsed": true
   },
   "outputs": [],
   "source": [
    "import torch\n",
    "import torch.nn as nn\n",
    "import torch.optim as optim\n",
    "from torch.optim import lr_scheduler\n",
    "from torch.autograd import Variable\n",
    "import numpy as np\n",
    "import torchvision\n",
    "from torchvision import datasets, models, transforms\n",
    "import matplotlib.pyplot as plt\n",
    "import time\n",
    "import os\n",
    "import copy\n",
    "import PIL\n",
    "import seaborn as sn\n",
    "import pandas as pd\n",
    "from confusionmeter import ConfusionMeter\n",
    "plt.ion()   # interactive mode"
   ]
  },
  {
   "cell_type": "markdown",
   "metadata": {},
   "source": [
    "# Load Data"
   ]
  },
  {
   "cell_type": "code",
   "execution_count": 3,
   "metadata": {
    "collapsed": true
   },
   "outputs": [],
   "source": [
    "# Data augmentation and normalization for training and validation\n",
    "data_transforms = {\n",
    "    'train': transforms.Compose([\n",
    "        transforms.Resize(256),\n",
    "        transforms.CenterCrop(224),\n",
    "        transforms.ToTensor(),\n",
    "        transforms.Normalize([0.5, 0.5, 0.5], [0.5, 0.5, 0.5])\n",
    "    ]),\n",
    "    'val': transforms.Compose([\n",
    "        transforms.Resize(256),\n",
    "        transforms.CenterCrop(224),\n",
    "        transforms.ToTensor(),\n",
    "        transforms.Normalize([0.5, 0.5, 0.5], [0.5, 0.5, 0.5])\n",
    "    ]),\n",
    "}\n",
    "\n",
    "data_dir = 'data/much_face'\n",
    "image_datasets = {x: datasets.ImageFolder(os.path.join(data_dir, x),\n",
    "                                          data_transforms[x])\n",
    "                  for x in ['train', 'val']}\n",
    "dataloaders = {x: torch.utils.data.DataLoader(image_datasets[x], batch_size=4,\n",
    "                                             shuffle=True, num_workers=4)\n",
    "              for x in ['train', 'val']}\n",
    "dataset_sizes = {x: len(image_datasets[x]) for x in ['train', 'val']}\n",
    "class_names = image_datasets['train'].classes\n",
    "\n",
    "use_gpu = torch.cuda.is_available()"
   ]
  },
  {
   "cell_type": "code",
   "execution_count": null,
   "metadata": {},
   "outputs": [],
   "source": [
    "def imshow(inp, title=None):\n",
    "    \"\"\"Imshow for Tensor.\"\"\"\n",
    "    inp = inp.numpy().transpose((1, 2, 0))\n",
    "    mean = np.array([0.5, 0.5, 0.5])\n",
    "    std = np.array([0.5, 0.5, 0.5])\n",
    "    inp = std * inp + mean\n",
    "    inp = np.clip(inp, 0, 1)\n",
    "    plt.imshow(inp)\n",
    "    if title is not None:\n",
    "        plt.title(title)\n",
    "    plt.pause(0.001)  # pause a bit so that plots are updated\n",
    "\n",
    "\n",
    "# Get a batch of training data\n",
    "inputs, classes = next(iter(dataloaders['train']))\n",
    "\n",
    "# Make a grid from batch\n",
    "out = torchvision.utils.make_grid(inputs)\n",
    "\n"
   ]
  },
  {
   "cell_type": "markdown",
   "metadata": {},
   "source": [
    "# Training the model"
   ]
  },
  {
   "cell_type": "code",
   "execution_count": 4,
   "metadata": {
    "collapsed": true
   },
   "outputs": [],
   "source": [
    "def train_model(model, criterion, optimizer, scheduler, num_epochs=25):\n",
    "    since = time.time()\n",
    "\n",
    "    best_model_wts = copy.deepcopy(model.state_dict())\n",
    "    best_acc = 0.0\n",
    "\n",
    "    for epoch in range(num_epochs):\n",
    "        print('Epoch {}/{}'.format(epoch, num_epochs - 1))\n",
    "        print('-' * 10)\n",
    "\n",
    "        # Each epoch has a training and validation phase\n",
    "        for phase in ['train', 'val']:\n",
    "            if phase == 'train':\n",
    "                scheduler.step()\n",
    "                model.train(True)  # Set model to training mode\n",
    "            else:\n",
    "                model.train(False)  # Set model to evaluate mode\n",
    "\n",
    "            running_loss = 0.0\n",
    "            running_corrects = 0\n",
    "\n",
    "            # Iterate over data.\n",
    "            for data in dataloaders[phase]:\n",
    "                # get the inputs\n",
    "                inputs, labels = data\n",
    "\n",
    "                # wrap them in Variable\n",
    "                if use_gpu:\n",
    "                    inputs = Variable(inputs.cuda())\n",
    "                    labels = Variable(labels.cuda())\n",
    "                else:\n",
    "                    inputs, labels = Variable(inputs), Variable(labels)\n",
    "\n",
    "                # zero the parameter gradients\n",
    "                optimizer.zero_grad()\n",
    "\n",
    "                # forward\n",
    "                outputs = model(inputs)\n",
    "                _, preds = torch.max(outputs.data, 1)\n",
    "                loss = criterion(outputs, labels)\n",
    "\n",
    "                # backward + optimize only if in training phase\n",
    "                if phase == 'train':\n",
    "                    loss.backward()\n",
    "                    optimizer.step()\n",
    "\n",
    "                # statistics\n",
    "                running_loss += loss.data[0] * inputs.size(0)\n",
    "                running_corrects += torch.sum(preds == labels.data)\n",
    "\n",
    "            epoch_loss = running_loss / dataset_sizes[phase]\n",
    "            epoch_acc = running_corrects / dataset_sizes[phase]\n",
    "\n",
    "            print('{} Loss: {:.4f} Acc: {:.4f}'.format(\n",
    "                phase, epoch_loss, epoch_acc))\n",
    "\n",
    "            # deep copy the model\n",
    "            if phase == 'val' and epoch_acc > best_acc:\n",
    "                best_acc = epoch_acc\n",
    "                best_model_wts = copy.deepcopy(model.state_dict())\n",
    "\n",
    "        print()\n",
    "\n",
    "    time_elapsed = time.time() - since\n",
    "    print('Training complete in {:.0f}m {:.0f}s'.format(\n",
    "        time_elapsed // 60, time_elapsed % 60))\n",
    "    print('Best val Acc: {:4f}'.format(best_acc))\n",
    "\n",
    "    # load best model weights\n",
    "    model.load_state_dict(best_model_wts)\n",
    "    return model"
   ]
  },
  {
   "cell_type": "markdown",
   "metadata": {},
   "source": [
    "## Visualizing the model predictions"
   ]
  },
  {
   "cell_type": "code",
   "execution_count": 68,
   "metadata": {
    "collapsed": true
   },
   "outputs": [],
   "source": [
    "def visualize_model(model, num_images=6):\n",
    "    was_training = model.training\n",
    "    model.eval()\n",
    "    images_so_far = 0\n",
    "    fig = plt.figure()\n",
    "\n",
    "    for i, data in enumerate(dataloaders['val']):\n",
    "        inputs, labels = data\n",
    "        if use_gpu:\n",
    "            inputs, labels = Variable(inputs.cuda()), Variable(labels.cuda())\n",
    "        else:\n",
    "            inputs, labels = Variable(inputs), Variable(labels)\n",
    "\n",
    "        outputs = model(inputs)\n",
    "        _, preds = torch.max(outputs.data, 1)\n",
    "\n",
    "        for j in range(inputs.size()[0]):\n",
    "            images_so_far += 1\n",
    "            ax = plt.subplot(num_images//2, 2, images_so_far)\n",
    "            ax.axis('off')\n",
    "            ax.set_title('predicted: {}'.format(class_names[preds[j]]))\n",
    "            imshow(inputs.cpu().data[j])\n",
    "\n",
    "            if images_so_far == num_images:\n",
    "                model.train(mode=was_training)\n",
    "                return\n",
    "    model.train(mode=was_training)"
   ]
  },
  {
   "cell_type": "markdown",
   "metadata": {},
   "source": [
    "# Finetuning the convnet"
   ]
  },
  {
   "cell_type": "code",
   "execution_count": 6,
   "metadata": {
    "collapsed": true
   },
   "outputs": [],
   "source": [
    "model_ft = models.resnet34(pretrained=True)\n",
    "num_ftrs = model_ft.fc.in_features\n",
    "model_ft.fc = nn.Linear(num_ftrs, 53)\n",
    "\n",
    "if use_gpu:\n",
    "    model_ft = model_ft.cuda()\n",
    "\n",
    "criterion = nn.CrossEntropyLoss()\n",
    "\n",
    "# Observe that all parameters are being optimized\n",
    "optimizer_ft = optim.SGD(model_ft.parameters(), lr=0.001, momentum=0.9)\n",
    "\n",
    "# Decay LR by a factor of 0.1 every 7 epochs\n",
    "exp_lr_scheduler = lr_scheduler.StepLR(optimizer_ft, step_size=7, gamma=0.1)\n"
   ]
  },
  {
   "cell_type": "markdown",
   "metadata": {},
   "source": [
    "# Train and Evaluate"
   ]
  },
  {
   "cell_type": "code",
   "execution_count": 7,
   "metadata": {},
   "outputs": [
    {
     "name": "stdout",
     "output_type": "stream",
     "text": [
      "Epoch 0/24\n",
      "----------\n",
      "train Loss: 2.8382 Acc: 0.3280\n",
      "val Loss: 0.9668 Acc: 0.7604\n",
      "\n",
      "Epoch 1/24\n",
      "----------\n",
      "train Loss: 0.7794 Acc: 0.8492\n",
      "val Loss: 0.2470 Acc: 0.9393\n",
      "\n",
      "Epoch 2/24\n",
      "----------\n",
      "train Loss: 0.2660 Acc: 0.9649\n",
      "val Loss: 0.1446 Acc: 0.9521\n",
      "\n",
      "Epoch 3/24\n",
      "----------\n",
      "train Loss: 0.1294 Acc: 0.9861\n",
      "val Loss: 0.1148 Acc: 0.9681\n",
      "\n",
      "Epoch 4/24\n",
      "----------\n",
      "train Loss: 0.1071 Acc: 0.9868\n",
      "val Loss: 0.0701 Acc: 0.9776\n",
      "\n",
      "Epoch 5/24\n",
      "----------\n",
      "train Loss: 0.0869 Acc: 0.9898\n",
      "val Loss: 0.0888 Acc: 0.9808\n",
      "\n",
      "Epoch 6/24\n",
      "----------\n",
      "train Loss: 0.0478 Acc: 0.9956\n",
      "val Loss: 0.0828 Acc: 0.9808\n",
      "\n",
      "Epoch 7/24\n",
      "----------\n",
      "train Loss: 0.0345 Acc: 0.9971\n",
      "val Loss: 0.0893 Acc: 0.9776\n",
      "\n",
      "Epoch 8/24\n",
      "----------\n",
      "train Loss: 0.0367 Acc: 0.9971\n",
      "val Loss: 0.0866 Acc: 0.9744\n",
      "\n",
      "Epoch 9/24\n",
      "----------\n",
      "train Loss: 0.0286 Acc: 0.9978\n",
      "val Loss: 0.0839 Acc: 0.9712\n",
      "\n",
      "Epoch 10/24\n",
      "----------\n",
      "train Loss: 0.0426 Acc: 0.9963\n",
      "val Loss: 0.0770 Acc: 0.9681\n",
      "\n",
      "Epoch 11/24\n",
      "----------\n",
      "train Loss: 0.0409 Acc: 0.9949\n",
      "val Loss: 0.0647 Acc: 0.9840\n",
      "\n",
      "Epoch 12/24\n",
      "----------\n",
      "train Loss: 0.0295 Acc: 0.9993\n",
      "val Loss: 0.0731 Acc: 0.9776\n",
      "\n",
      "Epoch 13/24\n",
      "----------\n",
      "train Loss: 0.0304 Acc: 0.9963\n",
      "val Loss: 0.0839 Acc: 0.9712\n",
      "\n",
      "Epoch 14/24\n",
      "----------\n",
      "train Loss: 0.0351 Acc: 0.9978\n",
      "val Loss: 0.0754 Acc: 0.9776\n",
      "\n",
      "Epoch 15/24\n",
      "----------\n",
      "train Loss: 0.0338 Acc: 0.9971\n",
      "val Loss: 0.0832 Acc: 0.9712\n",
      "\n",
      "Epoch 16/24\n",
      "----------\n",
      "train Loss: 0.0308 Acc: 0.9985\n",
      "val Loss: 0.0867 Acc: 0.9712\n",
      "\n",
      "Epoch 17/24\n",
      "----------\n",
      "train Loss: 0.0322 Acc: 0.9993\n",
      "val Loss: 0.0715 Acc: 0.9744\n",
      "\n",
      "Epoch 18/24\n",
      "----------\n",
      "train Loss: 0.0324 Acc: 0.9971\n",
      "val Loss: 0.0900 Acc: 0.9776\n",
      "\n",
      "Epoch 19/24\n",
      "----------\n",
      "train Loss: 0.0343 Acc: 0.9971\n",
      "val Loss: 0.0881 Acc: 0.9712\n",
      "\n",
      "Epoch 20/24\n",
      "----------\n",
      "train Loss: 0.0341 Acc: 0.9971\n",
      "val Loss: 0.0737 Acc: 0.9776\n",
      "\n",
      "Epoch 21/24\n",
      "----------\n",
      "train Loss: 0.0312 Acc: 0.9971\n",
      "val Loss: 0.0800 Acc: 0.9712\n",
      "\n",
      "Epoch 22/24\n",
      "----------\n",
      "train Loss: 0.0296 Acc: 0.9993\n",
      "val Loss: 0.0839 Acc: 0.9681\n",
      "\n",
      "Epoch 23/24\n",
      "----------\n",
      "train Loss: 0.0289 Acc: 0.9985\n",
      "val Loss: 0.0696 Acc: 0.9776\n",
      "\n",
      "Epoch 24/24\n",
      "----------\n",
      "train Loss: 0.0408 Acc: 0.9963\n",
      "val Loss: 0.0754 Acc: 0.9808\n",
      "\n",
      "Training complete in 6m 45s\n",
      "Best val Acc: 0.984026\n"
     ]
    }
   ],
   "source": [
    "model_ft = train_model(model_ft, criterion, optimizer_ft, exp_lr_scheduler,\n",
    "                       num_epochs=25)"
   ]
  },
  {
   "cell_type": "markdown",
   "metadata": {},
   "source": [
    "Runs:\n",
    "* ResNet18 Best val Acc: 0.968051\n",
    "* ResNet 34 Best val Acc: 0.984026"
   ]
  },
  {
   "cell_type": "markdown",
   "metadata": {
    "collapsed": true
   },
   "source": [
    "# Save the state dictionary"
   ]
  },
  {
   "cell_type": "code",
   "execution_count": 8,
   "metadata": {
    "collapsed": true
   },
   "outputs": [],
   "source": [
    "torch.save(model_ft.state_dict(), 'models/ResNet34_20190315.pth')"
   ]
  },
  {
   "cell_type": "markdown",
   "metadata": {
    "collapsed": true
   },
   "source": [
    "# Confusion Matrix"
   ]
  },
  {
   "cell_type": "code",
   "execution_count": 4,
   "metadata": {
    "collapsed": true
   },
   "outputs": [],
   "source": [
    "# e.g. modelname: initial_run20190307.pth \n",
    "model_dir = 'models'\n",
    "def load_model(modelname,architecture):\n",
    "    \"\"\"\n",
    "    modelname: e.g  initial_run20190307.pth  \n",
    "    architecture: e.g resnet18\n",
    "    \"\"\"\n",
    "    if architecture == 'resnet34':\n",
    "        model_ft = models.resnet34(pretrained=False)\n",
    "        num_ftrs = model_ft.fc.in_features\n",
    "        model_ft.fc = nn.Linear(num_ftrs, 53)\n",
    "        model_checkpoint = torch.load(os.path.join(model_dir, modelname))\n",
    "        model_ft.load_state_dict(model_checkpoint)\n",
    "        return model_ft"
   ]
  },
  {
   "cell_type": "code",
   "execution_count": 5,
   "metadata": {
    "collapsed": true
   },
   "outputs": [],
   "source": [
    "model_ft = load_model('ResNet34_20190315.pth','resnet34')"
   ]
  },
  {
   "cell_type": "code",
   "execution_count": 6,
   "metadata": {
    "collapsed": true
   },
   "outputs": [],
   "source": [
    "confusion_matrix = ConfusionMeter(53,normalized=False) #we have 53 classes\n",
    "model_ft.cuda() # enable computation on gpu \n",
    "model_ft.eval() # set model to evaluation mode\n",
    "for data in dataloaders['val']: # loop through dataloader \n",
    "    inputs, labels = data\n",
    "    inputs = Variable(inputs.cuda())\n",
    "    labels = Variable(labels.cuda())\n",
    "    outputs = model_ft(inputs) # pred\n",
    "    _, preds = torch.max(outputs.data, 1) # get max\n",
    "    confusion_matrix.add(preds.squeeze(), labels.data) # append to confusion matrix\n",
    "array = confusion_matrix.conf"
   ]
  },
  {
   "cell_type": "code",
   "execution_count": 7,
   "metadata": {
    "collapsed": true
   },
   "outputs": [],
   "source": [
    "# define class_names\n",
    "class_names = ['001',\n",
    " '002',\n",
    " '003',\n",
    " '004',\n",
    " '005',\n",
    " '006',\n",
    " '007',\n",
    " '008',\n",
    " '009',\n",
    " '010',\n",
    " '011',\n",
    " '012',\n",
    " '013',\n",
    " '014',\n",
    " '015',\n",
    " '016',\n",
    " '017',\n",
    " '018',\n",
    " '035',\n",
    " '037',\n",
    " '045',\n",
    " '046',\n",
    " '050',\n",
    " '051',\n",
    " '052',\n",
    " '053',\n",
    " '054',\n",
    " '055',\n",
    " '056',\n",
    " '057',\n",
    " '058',\n",
    " '059',\n",
    " '060',\n",
    " '061',\n",
    " '062',\n",
    " '063',\n",
    " '064',\n",
    " '065',\n",
    " '066',\n",
    " '067',\n",
    " '068',\n",
    " '069',\n",
    " '070',\n",
    " '107',\n",
    " '108',\n",
    " '161',\n",
    " '164',\n",
    " '165',\n",
    " '166',\n",
    " '167',\n",
    " '168',\n",
    " '169',\n",
    " '170']"
   ]
  },
  {
   "cell_type": "code",
   "execution_count": 8,
   "metadata": {},
   "outputs": [
    {
     "data": {
      "image/png": "[encoded data removed]",
      "text/plain": [
       "<matplotlib.figure.Figure at 0x7fcc6b1c1f28>"
      ]
     },
     "metadata": {},
     "output_type": "display_data"
    }
   ],
   "source": [
    "# Plot confusion matrix using seaborns heatmap\n",
    "colormap = plt.cm.inferno_r\n",
    "df_cm = pd.DataFrame(array, index = [i for i in class_names],\n",
    "                  columns = [i for i in class_names])\n",
    "plt.figure(figsize = (20,14))\n",
    "heatmapplot = sn.heatmap(df_cm, annot=True,cmap=colormap)"
   ]
  },
  {
   "cell_type": "code",
   "execution_count": 77,
   "metadata": {
    "collapsed": true
   },
   "outputs": [],
   "source": [
    "# save the figure to disk\n",
    "heatmapplot.figure.savefig(\"ConfusionMatrixResNet34.png\")"
   ]
  },
  {
   "cell_type": "code",
   "execution_count": 9,
   "metadata": {},
   "outputs": [
    {
     "data": {
      "text/plain": [
       "{'train': 1366, 'val': 313}"
      ]
     },
     "execution_count": 9,
     "metadata": {},
     "output_type": "execute_result"
    }
   ],
   "source": [
    "# show dataset size\n",
    "dataset_sizes"
   ]
  }
 ],
 "metadata": {
  "kernelspec": {
   "display_name": "Python 3",
   "language": "python",
   "name": "python3"
  },
  "language_info": {
   "codemirror_mode": {
    "name": "ipython",
    "version": 3
   },
   "file_extension": ".py",
   "mimetype": "text/x-python",
   "name": "python",
   "nbconvert_exporter": "python",
   "pygments_lexer": "ipython3",
   "version": "3.6.4"
  },
  "toc": {
   "base_numbering": 1,
   "nav_menu": {},
   "number_sections": true,
   "sideBar": true,
   "skip_h1_title": false,
   "title_cell": "Table of Contents",
   "title_sidebar": "Contents",
   "toc_cell": true,
   "toc_position": {},
   "toc_section_display": true,
   "toc_window_display": false
  }
 },
 "nbformat": 4,
 "nbformat_minor": 2
}
