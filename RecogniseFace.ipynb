{
 "cells": [
  {
   "cell_type": "markdown",
   "metadata": {},
   "source": [
    "## RecogniseFace Function\n",
    "As per coursework requirements. <br> \n",
    "\n",
    "classifierName:\n",
    "* ResNet34: Convolutional Neural Network Resnet34\n",
    "* SVM: Support Vector Machine Type 1 (SVC)\n",
    "* LR: Logistic regression\n",
    "<br>\n",
    "\n",
    "featureType:\n",
    "* SURF\n",
    "* SIFT \n",
    "<br>\n",
    "\n",
    "faceDetector:\n",
    "* hog: default option, fast and accurate \n",
    "* cnn: experimental, do not run! - very slow compared to hog and needs additional work\n",
    "<br>\n",
    "\n",
    "Docstring:  \n",
    "```Python\n",
    "def RecogniseFace(I,featureType,classifierName,faceDetector='hog'):\n",
    "    '''\n",
    "    Args:\n",
    "        I: image to classify\n",
    "        feature type: SIFT,SURF\n",
    "        classifierName: SVM, LogisticRegression,ResNet34\n",
    "        faceDetector: hog,cnn\n",
    "    Returns: \n",
    "        report: np array Nx3 where N is equal to the number of faces detect in the image.\n",
    "        Three columns represent: \n",
    "            1. id, a unique number associated with each person that matches the number in database provided. \n",
    "               \"Unkown\" faces are in range(901,910) (e.g. 901).\n",
    "            2. x, the x location of the person detected in the image (central face region)\n",
    "            3. y, the y location of the person detected in the image (central face region) \n",
    "    '''\n",
    "```"
   ]
  },
  {
   "cell_type": "markdown",
   "metadata": {},
   "source": [
    "For matlab compatible output, scipy.io savemat function can be used. E.g. to save the created report in the subfolder \"matlab\": \n",
    "```Python\n",
    "report = RecogniseFace(I,featureType,classifierName,faceDetector='hog')\n",
    "scipy.io.savemat(os.path.join(matlab_dir, 'report.mat'),mdict={'report': report})\n",
    "\n",
    "```\n"
   ]
  },
  {
   "cell_type": "code",
   "execution_count": 1,
   "metadata": {
    "collapsed": true
   },
   "outputs": [],
   "source": [
    "from inference_MFplus import RecogniseFace,RecogniseFace_ReturnAnnotatedImage\n",
    "import scipy.io\n",
    "import os\n",
    "matlab_dir = 'matlab' # define output directory for matlab matrix\n",
    "\n",
    "def convert_unkown_to_0_class(report):\n",
    "    '''\n",
    "    converts unkown class ids in the 900 range to 0\n",
    "    '''\n",
    "    report[:,0][report[:,0] > 900] = 0\n",
    "    return report\n"
   ]
  },
  {
   "cell_type": "markdown",
   "metadata": {},
   "source": [
    "# Examples"
   ]
  },
  {
   "cell_type": "markdown",
   "metadata": {},
   "source": [
    "## 1 RecgoniseFace"
   ]
  },
  {
   "cell_type": "markdown",
   "metadata": {},
   "source": [
    "### 1.1 CNN (ResNet34)\n",
    "#### 1.1.1 \"Unkown\" faces are returned in the 900 range"
   ]
  },
  {
   "cell_type": "code",
   "execution_count": 2,
   "metadata": {},
   "outputs": [
    {
     "name": "stdout",
     "output_type": "stream",
     "text": [
      "[[   9 2555 1253]\n",
      " [  45 1536 1479]\n",
      " [  57 2630 1121]\n",
      " [ 107 2270 1236]\n",
      " [ 108 2770 2089]\n",
      " [  53 1797  975]\n",
      " [ 165 1112 1054]\n",
      " [ 908  843  927]\n",
      " [  61 2653 1531]\n",
      " [  37 2166 1493]\n",
      " [  70  252 1244]\n",
      " [  15 2315  991]\n",
      " [ 909  539 1232]\n",
      " [  64  499  997]\n",
      " [ 168 1404 2355]\n",
      " [  35 3155 1471]\n",
      " [ 161  476 1541]\n",
      " [  46 1551 1046]\n",
      " [ 904 2482 1008]\n",
      " [  12 2117 2177]\n",
      " [   5 2770 1026]\n",
      " [  62 1048 1206]\n",
      " [  63 1602 1280]\n",
      " [  55 2046 1106]\n",
      " [  66 2316 1093]\n",
      " [  60 2094  996]\n",
      " [  16 1269  963]\n",
      " [   3 3745 2086]\n",
      " [  54  398  872]\n",
      " [ 164 2983 1026]\n",
      " [  50 3127 1026]\n",
      " [   7 3332 1037]]\n",
      "saved report matrix to matlab/report.mat\n"
     ]
    }
   ],
   "source": [
    "report = RecogniseFace('Class.jpg',None,'ResNet34')\n",
    "print(report)\n",
    "scipy.io.savemat(os.path.join(matlab_dir, 'ResNet34report.mat'),mdict={'report': report}) \n",
    "print('saved report matrix to matlab/report.mat')"
   ]
  },
  {
   "cell_type": "markdown",
   "metadata": {},
   "source": [
    "#### 1.1.2 \"Unkown\" faces returned as class 0"
   ]
  },
  {
   "cell_type": "code",
   "execution_count": 3,
   "metadata": {},
   "outputs": [
    {
     "name": "stdout",
     "output_type": "stream",
     "text": [
      "[[   9 2555 1253]\n",
      " [  45 1536 1479]\n",
      " [  57 2630 1121]\n",
      " [ 107 2270 1236]\n",
      " [ 108 2770 2089]\n",
      " [  53 1797  975]\n",
      " [ 165 1112 1054]\n",
      " [   0  843  927]\n",
      " [  61 2653 1531]\n",
      " [  37 2166 1493]\n",
      " [  70  252 1244]\n",
      " [  15 2315  991]\n",
      " [   0  539 1232]\n",
      " [  64  499  997]\n",
      " [ 168 1404 2355]\n",
      " [  35 3155 1471]\n",
      " [ 161  476 1541]\n",
      " [  46 1551 1046]\n",
      " [   0 2482 1008]\n",
      " [  12 2117 2177]\n",
      " [   5 2770 1026]\n",
      " [  62 1048 1206]\n",
      " [  63 1602 1280]\n",
      " [  55 2046 1106]\n",
      " [  66 2316 1093]\n",
      " [  60 2094  996]\n",
      " [  16 1269  963]\n",
      " [   3 3745 2086]\n",
      " [  54  398  872]\n",
      " [ 164 2983 1026]\n",
      " [  50 3127 1026]\n",
      " [   7 3332 1037]]\n",
      "saved report matrix to matlab/report0.mat\n"
     ]
    }
   ],
   "source": [
    "report0 = convert_unkown_to_0_class( RecogniseFace('Class.jpg',None,'ResNet34') )\n",
    "print(report0)\n",
    "scipy.io.savemat(os.path.join(matlab_dir, 'ResNet34report0.mat'),mdict={'report': report0}) \n",
    "print('saved report matrix to matlab/report0.mat')"
   ]
  },
  {
   "cell_type": "markdown",
   "metadata": {},
   "source": [
    "### 1.2 SVM (SVC) + SURF Feature"
   ]
  },
  {
   "cell_type": "code",
   "execution_count": 4,
   "metadata": {},
   "outputs": [
    {
     "name": "stdout",
     "output_type": "stream",
     "text": [
      "[[   9 2555 1253]\n",
      " [  45 1536 1479]\n",
      " [  57 2630 1121]\n",
      " [ 107 2270 1236]\n",
      " [ 108 2770 2089]\n",
      " [  53 1797  975]\n",
      " [ 165 1112 1054]\n",
      " [ 908  843  927]\n",
      " [  61 2653 1531]\n",
      " [  37 2166 1493]\n",
      " [  70  252 1244]\n",
      " [  15 2315  991]\n",
      " [ 909  539 1232]\n",
      " [  64  499  997]\n",
      " [ 168 1404 2355]\n",
      " [  35 3155 1471]\n",
      " [  17  476 1541]\n",
      " [  46 1551 1046]\n",
      " [ 904 2482 1008]\n",
      " [  12 2117 2177]\n",
      " [   5 2770 1026]\n",
      " [  62 1048 1206]\n",
      " [  63 1602 1280]\n",
      " [  55 2046 1106]\n",
      " [  66 2316 1093]\n",
      " [  60 2094  996]\n",
      " [  16 1269  963]\n",
      " [   3 3745 2086]\n",
      " [  54  398  872]\n",
      " [   7 2983 1026]\n",
      " [  50 3127 1026]\n",
      " [   7 3332 1037]]\n",
      "saved report matrix to matlab/report.mat\n"
     ]
    }
   ],
   "source": [
    "report = RecogniseFace('Class.jpg','SURF','SVM')\n",
    "print(report)\n",
    "\n",
    "scipy.io.savemat(os.path.join(matlab_dir, 'SURFSVMreport.mat'),mdict={'report': report}) \n",
    "print('saved report matrix to matlab/report.mat')"
   ]
  },
  {
   "cell_type": "markdown",
   "metadata": {},
   "source": [
    "### 1.3 Logistic Regression + SURF"
   ]
  },
  {
   "cell_type": "code",
   "execution_count": 5,
   "metadata": {},
   "outputs": [
    {
     "name": "stdout",
     "output_type": "stream",
     "text": [
      "[[   9 2555 1253]\n",
      " [  45 1536 1479]\n",
      " [  68 2630 1121]\n",
      " [ 107 2270 1236]\n",
      " [ 108 2770 2089]\n",
      " [  53 1797  975]\n",
      " [ 165 1112 1054]\n",
      " [ 908  843  927]\n",
      " [  61 2653 1531]\n",
      " [  37 2166 1493]\n",
      " [  70  252 1244]\n",
      " [  15 2315  991]\n",
      " [ 909  539 1232]\n",
      " [  64  499  997]\n",
      " [ 168 1404 2355]\n",
      " [  35 3155 1471]\n",
      " [ 164  476 1541]\n",
      " [  46 1551 1046]\n",
      " [ 904 2482 1008]\n",
      " [  12 2117 2177]\n",
      " [   5 2770 1026]\n",
      " [  62 1048 1206]\n",
      " [  63 1602 1280]\n",
      " [  55 2046 1106]\n",
      " [  66 2316 1093]\n",
      " [  60 2094  996]\n",
      " [  16 1269  963]\n",
      " [   3 3745 2086]\n",
      " [  54  398  872]\n",
      " [  56 2983 1026]\n",
      " [  50 3127 1026]\n",
      " [   7 3332 1037]]\n",
      "saved report matrix to matlab/report.mat\n"
     ]
    }
   ],
   "source": [
    "report = RecogniseFace('Class.jpg','SURF','LR')\n",
    "print(report)\n",
    "\n",
    "scipy.io.savemat(os.path.join(matlab_dir, 'SURFLRreport.mat'),mdict={'report': report}) \n",
    "print('saved report matrix to matlab/report.mat')"
   ]
  },
  {
   "cell_type": "markdown",
   "metadata": {},
   "source": [
    "### 1.4 Image with no faces\n",
    "returns empty list"
   ]
  },
  {
   "cell_type": "code",
   "execution_count": 6,
   "metadata": {},
   "outputs": [
    {
     "name": "stdout",
     "output_type": "stream",
     "text": [
      "[]\n",
      "[]\n"
     ]
    }
   ],
   "source": [
    "print(RecogniseFace('lynx.jpg','SURF','LR'))\n",
    "print(RecogniseFace('lynx.jpg',None,'ResNet34'))"
   ]
  },
  {
   "cell_type": "markdown",
   "metadata": {},
   "source": [
    "## 2 RecgoniseFace_ReturnAnnotedImage Function\n",
    "Identical to RecogniseFace, with the additional output of an annoted image that contains labels and bounding boxes. Image is saved in the matlab subfolder.<br>"
   ]
  },
  {
   "cell_type": "markdown",
   "metadata": {},
   "source": [
    "### 2.1 CNN (ResNet34)"
   ]
  },
  {
   "cell_type": "code",
   "execution_count": 6,
   "metadata": {
    "collapsed": true
   },
   "outputs": [],
   "source": [
    "report,image = RecogniseFace_ReturnAnnotatedImage('Class.jpg',None,'ResNet34')"
   ]
  },
  {
   "cell_type": "code",
   "execution_count": 7,
   "metadata": {
    "collapsed": true
   },
   "outputs": [],
   "source": [
    "image.save(os.path.join(matlab_dir, 'ResNet34image.jpg')) # save image to disk\n",
    "scipy.io.savemat(os.path.join(matlab_dir, 'ResNet34report.mat'),mdict={'report': report})  # save report to disk"
   ]
  },
  {
   "cell_type": "markdown",
   "metadata": {
    "collapsed": true
   },
   "source": [
    "### 2.2 SVM (SVC) + SURF"
   ]
  },
  {
   "cell_type": "code",
   "execution_count": 8,
   "metadata": {
    "collapsed": true
   },
   "outputs": [],
   "source": [
    "report,image = RecogniseFace_ReturnAnnotatedImage('Class.jpg','SURF','SVM')"
   ]
  },
  {
   "cell_type": "code",
   "execution_count": 9,
   "metadata": {
    "collapsed": true
   },
   "outputs": [],
   "source": [
    "image.save(os.path.join(matlab_dir, 'SURFSVMimage.jpg')) # save image to disk\n",
    "scipy.io.savemat(os.path.join(matlab_dir, 'SURFSVMreport.mat'),mdict={'report': report})  # save report to disk"
   ]
  },
  {
   "cell_type": "markdown",
   "metadata": {},
   "source": [
    "### 2.3 Logistic Regression + SURF"
   ]
  },
  {
   "cell_type": "code",
   "execution_count": 10,
   "metadata": {
    "collapsed": true
   },
   "outputs": [],
   "source": [
    "report,image = RecogniseFace_ReturnAnnotatedImage('Class.jpg','SURF','LR')"
   ]
  },
  {
   "cell_type": "code",
   "execution_count": 11,
   "metadata": {
    "collapsed": true
   },
   "outputs": [],
   "source": [
    "image.save(os.path.join(matlab_dir, 'SURFLRdimage.jpg')) # save image to disk\n",
    "scipy.io.savemat(os.path.join(matlab_dir, 'SURFLRreport.mat'),mdict={'report': report})  # save report to disk"
   ]
  }
 ],
 "metadata": {
  "kernelspec": {
   "display_name": "cv",
   "language": "python",
   "name": "cv"
  },
  "language_info": {
   "codemirror_mode": {
    "name": "ipython",
    "version": 3
   },
   "file_extension": ".py",
   "mimetype": "text/x-python",
   "name": "python",
   "nbconvert_exporter": "python",
   "pygments_lexer": "ipython3",
   "version": "3.5.4"
  }
 },
 "nbformat": 4,
 "nbformat_minor": 2
}
